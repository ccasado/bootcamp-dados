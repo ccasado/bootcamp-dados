{
  "nbformat": 4,
  "nbformat_minor": 0,
  "metadata": {
    "colab": {
      "name": "Bootcamp_Datascience2.ipynb",
      "provenance": [],
      "collapsed_sections": [],
      "authorship_tag": "ABX9TyOmLBdQh+CJgotAZU0AEIJI",
      "include_colab_link": true
    },
    "kernelspec": {
      "name": "python3",
      "display_name": "Python 3"
    },
    "language_info": {
      "name": "python"
    }
  },
  "cells": [
    {
      "cell_type": "markdown",
      "metadata": {
        "id": "view-in-github",
        "colab_type": "text"
      },
      "source": [
        "<a href=\"https://colab.research.google.com/github/ccasado/bootcamp-dados/blob/main/Bootcamp_Datascience2.ipynb\" target=\"_parent\"><img src=\"https://colab.research.google.com/assets/colab-badge.svg\" alt=\"Open In Colab\"/></a>"
      ]
    },
    {
      "cell_type": "code",
      "metadata": {
        "id": "YJ2oHiA_OEOI"
      },
      "source": [
        "import pandas as pd\n",
        "import numpy as np\n",
        "\n",
        "dados = pd.read_csv(\"https://raw.githubusercontent.com/alura-cursos/agendamento-hospitalar/main/dados/A160324189_28_143_208.csv\", encoding=\"ISO-8859-1\", \n",
        "                    skiprows = 3, sep=\";\", skipfooter=12,\n",
        "                    na_values='-',\n",
        "                    thousands=\".\", decimal=\",\", engine=\"python\")"
      ],
      "execution_count": 1,
      "outputs": []
    },
    {
      "cell_type": "markdown",
      "metadata": {
        "id": "WsqkknMBXMRs"
      },
      "source": [
        "### Desafio 01 - Entre nos dados do wikipedia e Leia a Base de dados direto do wikipedia."
      ]
    },
    {
      "cell_type": "code",
      "metadata": {
        "colab": {
          "base_uri": "https://localhost:8080/",
          "height": 917
        },
        "id": "G-CixqGQW489",
        "outputId": "85fd61a9-245f-4e31-e2ad-1eaf8ef92a53"
      },
      "source": [
        "url = 'https://pt.wikipedia.org/wiki/Lista_de_unidades_federativas_do_Brasil_por_popula%C3%A7%C3%A3o#cite_note-IBGE_POP-1'\n",
        "dfs = pd.read_html(url, index_col=1)\n",
        "df = dfs[0]\n",
        "\n",
        "df[['População']]"
      ],
      "execution_count": 2,
      "outputs": [
        {
          "output_type": "execute_result",
          "data": {
            "text/html": [
              "<div>\n",
              "<style scoped>\n",
              "    .dataframe tbody tr th:only-of-type {\n",
              "        vertical-align: middle;\n",
              "    }\n",
              "\n",
              "    .dataframe tbody tr th {\n",
              "        vertical-align: top;\n",
              "    }\n",
              "\n",
              "    .dataframe thead th {\n",
              "        text-align: right;\n",
              "    }\n",
              "</style>\n",
              "<table border=\"1\" class=\"dataframe\">\n",
              "  <thead>\n",
              "    <tr style=\"text-align: right;\">\n",
              "      <th></th>\n",
              "      <th>População</th>\n",
              "    </tr>\n",
              "    <tr>\n",
              "      <th>Unidade federativa</th>\n",
              "      <th></th>\n",
              "    </tr>\n",
              "  </thead>\n",
              "  <tbody>\n",
              "    <tr>\n",
              "      <th>São Paulo</th>\n",
              "      <td>46 289 333</td>\n",
              "    </tr>\n",
              "    <tr>\n",
              "      <th>Minas Gerais</th>\n",
              "      <td>21 292 666</td>\n",
              "    </tr>\n",
              "    <tr>\n",
              "      <th>Rio de Janeiro</th>\n",
              "      <td>17 366 189</td>\n",
              "    </tr>\n",
              "    <tr>\n",
              "      <th>Bahia</th>\n",
              "      <td>14 930 634</td>\n",
              "    </tr>\n",
              "    <tr>\n",
              "      <th>Paraná</th>\n",
              "      <td>11 516 840</td>\n",
              "    </tr>\n",
              "    <tr>\n",
              "      <th>Rio Grande do Sul</th>\n",
              "      <td>11 422 973</td>\n",
              "    </tr>\n",
              "    <tr>\n",
              "      <th>Pernambuco</th>\n",
              "      <td>9 616 621</td>\n",
              "    </tr>\n",
              "    <tr>\n",
              "      <th>Ceará</th>\n",
              "      <td>9 187 103</td>\n",
              "    </tr>\n",
              "    <tr>\n",
              "      <th>Pará</th>\n",
              "      <td>8 690 745</td>\n",
              "    </tr>\n",
              "    <tr>\n",
              "      <th>Santa Catarina</th>\n",
              "      <td>7 252 502</td>\n",
              "    </tr>\n",
              "    <tr>\n",
              "      <th>Maranhão</th>\n",
              "      <td>7 114 598</td>\n",
              "    </tr>\n",
              "    <tr>\n",
              "      <th>Goiás</th>\n",
              "      <td>7 113 540</td>\n",
              "    </tr>\n",
              "    <tr>\n",
              "      <th>Amazonas</th>\n",
              "      <td>4 207 714</td>\n",
              "    </tr>\n",
              "    <tr>\n",
              "      <th>Espírito Santo</th>\n",
              "      <td>4 064 052</td>\n",
              "    </tr>\n",
              "    <tr>\n",
              "      <th>Paraíba</th>\n",
              "      <td>4 039 277</td>\n",
              "    </tr>\n",
              "    <tr>\n",
              "      <th>Rio Grande do Norte</th>\n",
              "      <td>3 534 165</td>\n",
              "    </tr>\n",
              "    <tr>\n",
              "      <th>Mato Grosso</th>\n",
              "      <td>3 526 220</td>\n",
              "    </tr>\n",
              "    <tr>\n",
              "      <th>Alagoas</th>\n",
              "      <td>3 351 543</td>\n",
              "    </tr>\n",
              "    <tr>\n",
              "      <th>Piauí</th>\n",
              "      <td>3 281 480</td>\n",
              "    </tr>\n",
              "    <tr>\n",
              "      <th>Distrito Federal</th>\n",
              "      <td>3 055 149</td>\n",
              "    </tr>\n",
              "    <tr>\n",
              "      <th>Mato Grosso do Sul</th>\n",
              "      <td>2 809 394</td>\n",
              "    </tr>\n",
              "    <tr>\n",
              "      <th>Sergipe</th>\n",
              "      <td>2 318 822</td>\n",
              "    </tr>\n",
              "    <tr>\n",
              "      <th>Rondônia</th>\n",
              "      <td>1 796 460</td>\n",
              "    </tr>\n",
              "    <tr>\n",
              "      <th>Tocantins</th>\n",
              "      <td>1 590 248</td>\n",
              "    </tr>\n",
              "    <tr>\n",
              "      <th>Acre</th>\n",
              "      <td>894 470</td>\n",
              "    </tr>\n",
              "    <tr>\n",
              "      <th>Amapá</th>\n",
              "      <td>861 773</td>\n",
              "    </tr>\n",
              "    <tr>\n",
              "      <th>Roraima</th>\n",
              "      <td>631 181</td>\n",
              "    </tr>\n",
              "  </tbody>\n",
              "</table>\n",
              "</div>"
            ],
            "text/plain": [
              "                      População\n",
              "Unidade federativa             \n",
              "São Paulo            46 289 333\n",
              "Minas Gerais         21 292 666\n",
              "Rio de Janeiro       17 366 189\n",
              "Bahia                14 930 634\n",
              "Paraná               11 516 840\n",
              "Rio Grande do Sul    11 422 973\n",
              "Pernambuco            9 616 621\n",
              "Ceará                 9 187 103\n",
              "Pará                  8 690 745\n",
              "Santa Catarina        7 252 502\n",
              "Maranhão              7 114 598\n",
              "Goiás                 7 113 540\n",
              "Amazonas              4 207 714\n",
              "Espírito Santo        4 064 052\n",
              "Paraíba               4 039 277\n",
              "Rio Grande do Norte   3 534 165\n",
              "Mato Grosso           3 526 220\n",
              "Alagoas               3 351 543\n",
              "Piauí                 3 281 480\n",
              "Distrito Federal      3 055 149\n",
              "Mato Grosso do Sul    2 809 394\n",
              "Sergipe               2 318 822\n",
              "Rondônia              1 796 460\n",
              "Tocantins             1 590 248\n",
              "Acre                    894 470\n",
              "Amapá                   861 773\n",
              "Roraima                 631 181"
            ]
          },
          "metadata": {
            "tags": []
          },
          "execution_count": 2
        }
      ]
    },
    {
      "cell_type": "markdown",
      "metadata": {
        "id": "hLZJpOdLXPdj"
      },
      "source": [
        "### Desafio 02 - Neste desafio temos uma série de passos:\n",
        "\n",
        "Padronizar os nomes das colunas\n",
        "\n"
      ]
    },
    {
      "cell_type": "code",
      "metadata": {
        "colab": {
          "base_uri": "https://localhost:8080/"
        },
        "id": "jR5EIMwK-nhk",
        "outputId": "b5d63a1d-c62e-4cf8-de88-31fc488434d4"
      },
      "source": [
        "df.index.rename('uf', inplace=True)\n",
        "df.rename(columns = {'População': 'populacao'}, inplace = True)\n",
        "df['populacao']"
      ],
      "execution_count": 3,
      "outputs": [
        {
          "output_type": "execute_result",
          "data": {
            "text/plain": [
              "uf\n",
              "São Paulo              46 289 333\n",
              "Minas Gerais           21 292 666\n",
              "Rio de Janeiro         17 366 189\n",
              "Bahia                  14 930 634\n",
              "Paraná                 11 516 840\n",
              "Rio Grande do Sul      11 422 973\n",
              "Pernambuco              9 616 621\n",
              "Ceará                   9 187 103\n",
              "Pará                    8 690 745\n",
              "Santa Catarina          7 252 502\n",
              "Maranhão                7 114 598\n",
              "Goiás                   7 113 540\n",
              "Amazonas                4 207 714\n",
              "Espírito Santo          4 064 052\n",
              "Paraíba                 4 039 277\n",
              "Rio Grande do Norte     3 534 165\n",
              "Mato Grosso             3 526 220\n",
              "Alagoas                 3 351 543\n",
              "Piauí                   3 281 480\n",
              "Distrito Federal        3 055 149\n",
              "Mato Grosso do Sul      2 809 394\n",
              "Sergipe                 2 318 822\n",
              "Rondônia                1 796 460\n",
              "Tocantins               1 590 248\n",
              "Acre                      894 470\n",
              "Amapá                     861 773\n",
              "Roraima                   631 181\n",
              "Name: populacao, dtype: object"
            ]
          },
          "metadata": {
            "tags": []
          },
          "execution_count": 3
        }
      ]
    },
    {
      "cell_type": "markdown",
      "metadata": {
        "id": "bVDAejIbAHYy"
      },
      "source": [
        "Transformar os dados nos tipos corretos\n"
      ]
    },
    {
      "cell_type": "code",
      "metadata": {
        "colab": {
          "base_uri": "https://localhost:8080/"
        },
        "id": "SNGYUBloAIiQ",
        "outputId": "91f816dc-7524-407c-dde1-4cf1973a9611"
      },
      "source": [
        "df['populacao'] = df['populacao'].str.replace(\" \", \"\").astype(int)\n",
        "df['populacao']"
      ],
      "execution_count": 4,
      "outputs": [
        {
          "output_type": "execute_result",
          "data": {
            "text/plain": [
              "uf\n",
              "São Paulo              46289333\n",
              "Minas Gerais           21292666\n",
              "Rio de Janeiro         17366189\n",
              "Bahia                  14930634\n",
              "Paraná                 11516840\n",
              "Rio Grande do Sul      11422973\n",
              "Pernambuco              9616621\n",
              "Ceará                   9187103\n",
              "Pará                    8690745\n",
              "Santa Catarina          7252502\n",
              "Maranhão                7114598\n",
              "Goiás                   7113540\n",
              "Amazonas                4207714\n",
              "Espírito Santo          4064052\n",
              "Paraíba                 4039277\n",
              "Rio Grande do Norte     3534165\n",
              "Mato Grosso             3526220\n",
              "Alagoas                 3351543\n",
              "Piauí                   3281480\n",
              "Distrito Federal        3055149\n",
              "Mato Grosso do Sul      2809394\n",
              "Sergipe                 2318822\n",
              "Rondônia                1796460\n",
              "Tocantins               1590248\n",
              "Acre                     894470\n",
              "Amapá                    861773\n",
              "Roraima                  631181\n",
              "Name: populacao, dtype: int64"
            ]
          },
          "metadata": {
            "tags": []
          },
          "execution_count": 4
        }
      ]
    },
    {
      "cell_type": "markdown",
      "metadata": {
        "id": "pz2KWObzBUd8"
      },
      "source": [
        "Transformar a UF em index"
      ]
    },
    {
      "cell_type": "code",
      "metadata": {
        "colab": {
          "base_uri": "https://localhost:8080/"
        },
        "id": "-ncwnGDVBT_b",
        "outputId": "21d6e291-ba84-491c-94c7-6d722347619c"
      },
      "source": [
        "df.index"
      ],
      "execution_count": 5,
      "outputs": [
        {
          "output_type": "execute_result",
          "data": {
            "text/plain": [
              "Index(['São Paulo', 'Minas Gerais', 'Rio de Janeiro', 'Bahia', 'Paraná',\n",
              "       'Rio Grande do Sul', 'Pernambuco', 'Ceará', 'Pará', 'Santa Catarina',\n",
              "       'Maranhão', 'Goiás', 'Amazonas', 'Espírito Santo', 'Paraíba',\n",
              "       'Rio Grande do Norte', 'Mato Grosso', 'Alagoas', 'Piauí',\n",
              "       'Distrito Federal', 'Mato Grosso do Sul', 'Sergipe', 'Rondônia',\n",
              "       'Tocantins', 'Acre', 'Amapá', 'Roraima'],\n",
              "      dtype='object', name='uf')"
            ]
          },
          "metadata": {
            "tags": []
          },
          "execution_count": 5
        }
      ]
    },
    {
      "cell_type": "markdown",
      "metadata": {
        "id": "joRD3MtDBzXh"
      },
      "source": [
        "### Desafio 03 - Buscar na documentação alguns métodos envolvendo strings\n"
      ]
    },
    {
      "cell_type": "code",
      "metadata": {
        "colab": {
          "base_uri": "https://localhost:8080/"
        },
        "id": "djfsnsJJB5d7",
        "outputId": "2db9a03b-b514-4377-8776-906f0683413a"
      },
      "source": [
        "# criação de series com datatype string\n",
        "strings = pd.Series([\"a\", \"b\", \"c\", \"AA\", \"Series\", \"f-l-u\"], dtype=\"string\")\n",
        "strings"
      ],
      "execution_count": 6,
      "outputs": [
        {
          "output_type": "execute_result",
          "data": {
            "text/plain": [
              "0         a\n",
              "1         b\n",
              "2         c\n",
              "3        AA\n",
              "4    Series\n",
              "5     f-l-u\n",
              "dtype: string"
            ]
          },
          "metadata": {
            "tags": []
          },
          "execution_count": 6
        }
      ]
    },
    {
      "cell_type": "code",
      "metadata": {
        "colab": {
          "base_uri": "https://localhost:8080/"
        },
        "id": "6fa6W0GCDEP0",
        "outputId": "6996b8a0-bf19-4af7-e3c9-c9ebfc05a609"
      },
      "source": [
        "# Lower case\n",
        "strings.str.lower()"
      ],
      "execution_count": 7,
      "outputs": [
        {
          "output_type": "execute_result",
          "data": {
            "text/plain": [
              "0         a\n",
              "1         b\n",
              "2         c\n",
              "3        aa\n",
              "4    series\n",
              "5     f-l-u\n",
              "dtype: string"
            ]
          },
          "metadata": {
            "tags": []
          },
          "execution_count": 7
        }
      ]
    },
    {
      "cell_type": "code",
      "metadata": {
        "colab": {
          "base_uri": "https://localhost:8080/"
        },
        "id": "1QqvgYKkDhvc",
        "outputId": "cc1cd7e4-3c33-4d5c-aace-f1a5b2b9d667"
      },
      "source": [
        "# Upper case\n",
        "strings.str.upper()"
      ],
      "execution_count": 8,
      "outputs": [
        {
          "output_type": "execute_result",
          "data": {
            "text/plain": [
              "0         A\n",
              "1         B\n",
              "2         C\n",
              "3        AA\n",
              "4    SERIES\n",
              "5     F-L-U\n",
              "dtype: string"
            ]
          },
          "metadata": {
            "tags": []
          },
          "execution_count": 8
        }
      ]
    },
    {
      "cell_type": "code",
      "metadata": {
        "colab": {
          "base_uri": "https://localhost:8080/"
        },
        "id": "6hq9nsk4Dp-M",
        "outputId": "9436a7ab-c362-40f5-ad67-351806fd734e"
      },
      "source": [
        "# Calcula o tamanho da string\n",
        "strings.str.len()"
      ],
      "execution_count": 9,
      "outputs": [
        {
          "output_type": "execute_result",
          "data": {
            "text/plain": [
              "0    1\n",
              "1    1\n",
              "2    1\n",
              "3    2\n",
              "4    6\n",
              "5    5\n",
              "dtype: Int64"
            ]
          },
          "metadata": {
            "tags": []
          },
          "execution_count": 9
        }
      ]
    },
    {
      "cell_type": "code",
      "metadata": {
        "colab": {
          "base_uri": "https://localhost:8080/",
          "height": 235
        },
        "id": "AeY-vNTrEMAe",
        "outputId": "927b9c7d-de7a-45c2-b035-403e50965e63"
      },
      "source": [
        "# Retorna serie de lista\n",
        "strings.str.split(\"-\", expand=True)"
      ],
      "execution_count": 10,
      "outputs": [
        {
          "output_type": "execute_result",
          "data": {
            "text/html": [
              "<div>\n",
              "<style scoped>\n",
              "    .dataframe tbody tr th:only-of-type {\n",
              "        vertical-align: middle;\n",
              "    }\n",
              "\n",
              "    .dataframe tbody tr th {\n",
              "        vertical-align: top;\n",
              "    }\n",
              "\n",
              "    .dataframe thead th {\n",
              "        text-align: right;\n",
              "    }\n",
              "</style>\n",
              "<table border=\"1\" class=\"dataframe\">\n",
              "  <thead>\n",
              "    <tr style=\"text-align: right;\">\n",
              "      <th></th>\n",
              "      <th>0</th>\n",
              "      <th>1</th>\n",
              "      <th>2</th>\n",
              "    </tr>\n",
              "  </thead>\n",
              "  <tbody>\n",
              "    <tr>\n",
              "      <th>0</th>\n",
              "      <td>a</td>\n",
              "      <td>&lt;NA&gt;</td>\n",
              "      <td>&lt;NA&gt;</td>\n",
              "    </tr>\n",
              "    <tr>\n",
              "      <th>1</th>\n",
              "      <td>b</td>\n",
              "      <td>&lt;NA&gt;</td>\n",
              "      <td>&lt;NA&gt;</td>\n",
              "    </tr>\n",
              "    <tr>\n",
              "      <th>2</th>\n",
              "      <td>c</td>\n",
              "      <td>&lt;NA&gt;</td>\n",
              "      <td>&lt;NA&gt;</td>\n",
              "    </tr>\n",
              "    <tr>\n",
              "      <th>3</th>\n",
              "      <td>AA</td>\n",
              "      <td>&lt;NA&gt;</td>\n",
              "      <td>&lt;NA&gt;</td>\n",
              "    </tr>\n",
              "    <tr>\n",
              "      <th>4</th>\n",
              "      <td>Series</td>\n",
              "      <td>&lt;NA&gt;</td>\n",
              "      <td>&lt;NA&gt;</td>\n",
              "    </tr>\n",
              "    <tr>\n",
              "      <th>5</th>\n",
              "      <td>f</td>\n",
              "      <td>l</td>\n",
              "      <td>u</td>\n",
              "    </tr>\n",
              "  </tbody>\n",
              "</table>\n",
              "</div>"
            ],
            "text/plain": [
              "        0     1     2\n",
              "0       a  <NA>  <NA>\n",
              "1       b  <NA>  <NA>\n",
              "2       c  <NA>  <NA>\n",
              "3      AA  <NA>  <NA>\n",
              "4  Series  <NA>  <NA>\n",
              "5       f     l     u"
            ]
          },
          "metadata": {
            "tags": []
          },
          "execution_count": 10
        }
      ]
    },
    {
      "cell_type": "code",
      "metadata": {
        "colab": {
          "base_uri": "https://localhost:8080/"
        },
        "id": "xnExkci7E9J2",
        "outputId": "100fbc77-9b98-44ba-a1b5-3ea56d021f9a"
      },
      "source": [
        "# Substiuição de string\n",
        "strings.str.replace(\"^f\", \"g\", case=False, regex=True)"
      ],
      "execution_count": 11,
      "outputs": [
        {
          "output_type": "execute_result",
          "data": {
            "text/plain": [
              "0         a\n",
              "1         b\n",
              "2         c\n",
              "3        AA\n",
              "4    Series\n",
              "5     g-l-u\n",
              "dtype: string"
            ]
          },
          "metadata": {
            "tags": []
          },
          "execution_count": 11
        }
      ]
    },
    {
      "cell_type": "markdown",
      "metadata": {
        "id": "o0k5jQWpB4zD"
      },
      "source": [
        "### Desafio 04 - Desenvolver uma função para a limpeza e tratamento dos dados, retornando duas tabelas \"população\" e \"unida\"."
      ]
    },
    {
      "cell_type": "code",
      "metadata": {
        "id": "HpS0FZ4DFjRl"
      },
      "source": [
        "def clean_df(url, dados):\n",
        "\n",
        "    dfs = pd.read_html(url, index_col=1)\n",
        "    populacao = pd.DataFrame(dfs[0])\n",
        "    populacao.drop(columns=['Posição', '% da pop. total', 'País comparável (habitantes)'], inplace=True)\n",
        "    populacao.rename(columns={'Unidade federativa':'uf', 'População':'populacao'}, inplace=True)\n",
        "    populacao['populacao'] = populacao['populacao'].str.replace(' ', '').astype('int64')\n",
        "    unida = populacao.join(dados)\n",
        "    \n",
        "    return populacao, unida\n",
        "\n",
        "url = 'https://pt.wikipedia.org/wiki/Lista_de_unidades_federativas_do_Brasil_por_popula%C3%A7%C3%A3o'\n",
        "\n",
        "dados_082020 = dados.set_index('Unidade da Federação')['2020/Ago']\n",
        "dados_082020.index = dados_082020.index.str[3:]\n",
        "\n",
        "populacao, unida = clean_df(url,dados_082020)"
      ],
      "execution_count": 12,
      "outputs": []
    },
    {
      "cell_type": "code",
      "metadata": {
        "colab": {
          "base_uri": "https://localhost:8080/",
          "height": 917
        },
        "id": "gzl3FC7wOmw0",
        "outputId": "18e22462-97ce-4937-9740-0ed727f3ab99"
      },
      "source": [
        "populacao"
      ],
      "execution_count": 13,
      "outputs": [
        {
          "output_type": "execute_result",
          "data": {
            "text/html": [
              "<div>\n",
              "<style scoped>\n",
              "    .dataframe tbody tr th:only-of-type {\n",
              "        vertical-align: middle;\n",
              "    }\n",
              "\n",
              "    .dataframe tbody tr th {\n",
              "        vertical-align: top;\n",
              "    }\n",
              "\n",
              "    .dataframe thead th {\n",
              "        text-align: right;\n",
              "    }\n",
              "</style>\n",
              "<table border=\"1\" class=\"dataframe\">\n",
              "  <thead>\n",
              "    <tr style=\"text-align: right;\">\n",
              "      <th></th>\n",
              "      <th>populacao</th>\n",
              "    </tr>\n",
              "    <tr>\n",
              "      <th>Unidade federativa</th>\n",
              "      <th></th>\n",
              "    </tr>\n",
              "  </thead>\n",
              "  <tbody>\n",
              "    <tr>\n",
              "      <th>São Paulo</th>\n",
              "      <td>46289333</td>\n",
              "    </tr>\n",
              "    <tr>\n",
              "      <th>Minas Gerais</th>\n",
              "      <td>21292666</td>\n",
              "    </tr>\n",
              "    <tr>\n",
              "      <th>Rio de Janeiro</th>\n",
              "      <td>17366189</td>\n",
              "    </tr>\n",
              "    <tr>\n",
              "      <th>Bahia</th>\n",
              "      <td>14930634</td>\n",
              "    </tr>\n",
              "    <tr>\n",
              "      <th>Paraná</th>\n",
              "      <td>11516840</td>\n",
              "    </tr>\n",
              "    <tr>\n",
              "      <th>Rio Grande do Sul</th>\n",
              "      <td>11422973</td>\n",
              "    </tr>\n",
              "    <tr>\n",
              "      <th>Pernambuco</th>\n",
              "      <td>9616621</td>\n",
              "    </tr>\n",
              "    <tr>\n",
              "      <th>Ceará</th>\n",
              "      <td>9187103</td>\n",
              "    </tr>\n",
              "    <tr>\n",
              "      <th>Pará</th>\n",
              "      <td>8690745</td>\n",
              "    </tr>\n",
              "    <tr>\n",
              "      <th>Santa Catarina</th>\n",
              "      <td>7252502</td>\n",
              "    </tr>\n",
              "    <tr>\n",
              "      <th>Maranhão</th>\n",
              "      <td>7114598</td>\n",
              "    </tr>\n",
              "    <tr>\n",
              "      <th>Goiás</th>\n",
              "      <td>7113540</td>\n",
              "    </tr>\n",
              "    <tr>\n",
              "      <th>Amazonas</th>\n",
              "      <td>4207714</td>\n",
              "    </tr>\n",
              "    <tr>\n",
              "      <th>Espírito Santo</th>\n",
              "      <td>4064052</td>\n",
              "    </tr>\n",
              "    <tr>\n",
              "      <th>Paraíba</th>\n",
              "      <td>4039277</td>\n",
              "    </tr>\n",
              "    <tr>\n",
              "      <th>Rio Grande do Norte</th>\n",
              "      <td>3534165</td>\n",
              "    </tr>\n",
              "    <tr>\n",
              "      <th>Mato Grosso</th>\n",
              "      <td>3526220</td>\n",
              "    </tr>\n",
              "    <tr>\n",
              "      <th>Alagoas</th>\n",
              "      <td>3351543</td>\n",
              "    </tr>\n",
              "    <tr>\n",
              "      <th>Piauí</th>\n",
              "      <td>3281480</td>\n",
              "    </tr>\n",
              "    <tr>\n",
              "      <th>Distrito Federal</th>\n",
              "      <td>3055149</td>\n",
              "    </tr>\n",
              "    <tr>\n",
              "      <th>Mato Grosso do Sul</th>\n",
              "      <td>2809394</td>\n",
              "    </tr>\n",
              "    <tr>\n",
              "      <th>Sergipe</th>\n",
              "      <td>2318822</td>\n",
              "    </tr>\n",
              "    <tr>\n",
              "      <th>Rondônia</th>\n",
              "      <td>1796460</td>\n",
              "    </tr>\n",
              "    <tr>\n",
              "      <th>Tocantins</th>\n",
              "      <td>1590248</td>\n",
              "    </tr>\n",
              "    <tr>\n",
              "      <th>Acre</th>\n",
              "      <td>894470</td>\n",
              "    </tr>\n",
              "    <tr>\n",
              "      <th>Amapá</th>\n",
              "      <td>861773</td>\n",
              "    </tr>\n",
              "    <tr>\n",
              "      <th>Roraima</th>\n",
              "      <td>631181</td>\n",
              "    </tr>\n",
              "  </tbody>\n",
              "</table>\n",
              "</div>"
            ],
            "text/plain": [
              "                     populacao\n",
              "Unidade federativa            \n",
              "São Paulo             46289333\n",
              "Minas Gerais          21292666\n",
              "Rio de Janeiro        17366189\n",
              "Bahia                 14930634\n",
              "Paraná                11516840\n",
              "Rio Grande do Sul     11422973\n",
              "Pernambuco             9616621\n",
              "Ceará                  9187103\n",
              "Pará                   8690745\n",
              "Santa Catarina         7252502\n",
              "Maranhão               7114598\n",
              "Goiás                  7113540\n",
              "Amazonas               4207714\n",
              "Espírito Santo         4064052\n",
              "Paraíba                4039277\n",
              "Rio Grande do Norte    3534165\n",
              "Mato Grosso            3526220\n",
              "Alagoas                3351543\n",
              "Piauí                  3281480\n",
              "Distrito Federal       3055149\n",
              "Mato Grosso do Sul     2809394\n",
              "Sergipe                2318822\n",
              "Rondônia               1796460\n",
              "Tocantins              1590248\n",
              "Acre                    894470\n",
              "Amapá                   861773\n",
              "Roraima                 631181"
            ]
          },
          "metadata": {
            "tags": []
          },
          "execution_count": 13
        }
      ]
    },
    {
      "cell_type": "code",
      "metadata": {
        "colab": {
          "base_uri": "https://localhost:8080/",
          "height": 917
        },
        "id": "2xSdPdKjO3BQ",
        "outputId": "cee41dc3-1bba-456a-cf91-26a74a6c820c"
      },
      "source": [
        "unida"
      ],
      "execution_count": 14,
      "outputs": [
        {
          "output_type": "execute_result",
          "data": {
            "text/html": [
              "<div>\n",
              "<style scoped>\n",
              "    .dataframe tbody tr th:only-of-type {\n",
              "        vertical-align: middle;\n",
              "    }\n",
              "\n",
              "    .dataframe tbody tr th {\n",
              "        vertical-align: top;\n",
              "    }\n",
              "\n",
              "    .dataframe thead th {\n",
              "        text-align: right;\n",
              "    }\n",
              "</style>\n",
              "<table border=\"1\" class=\"dataframe\">\n",
              "  <thead>\n",
              "    <tr style=\"text-align: right;\">\n",
              "      <th></th>\n",
              "      <th>populacao</th>\n",
              "      <th>2020/Ago</th>\n",
              "    </tr>\n",
              "    <tr>\n",
              "      <th>Unidade federativa</th>\n",
              "      <th></th>\n",
              "      <th></th>\n",
              "    </tr>\n",
              "  </thead>\n",
              "  <tbody>\n",
              "    <tr>\n",
              "      <th>São Paulo</th>\n",
              "      <td>46289333</td>\n",
              "      <td>1.404149e+08</td>\n",
              "    </tr>\n",
              "    <tr>\n",
              "      <th>Minas Gerais</th>\n",
              "      <td>21292666</td>\n",
              "      <td>5.747370e+07</td>\n",
              "    </tr>\n",
              "    <tr>\n",
              "      <th>Rio de Janeiro</th>\n",
              "      <td>17366189</td>\n",
              "      <td>3.626432e+07</td>\n",
              "    </tr>\n",
              "    <tr>\n",
              "      <th>Bahia</th>\n",
              "      <td>14930634</td>\n",
              "      <td>2.602356e+07</td>\n",
              "    </tr>\n",
              "    <tr>\n",
              "      <th>Paraná</th>\n",
              "      <td>11516840</td>\n",
              "      <td>4.154240e+07</td>\n",
              "    </tr>\n",
              "    <tr>\n",
              "      <th>Rio Grande do Sul</th>\n",
              "      <td>11422973</td>\n",
              "      <td>2.834926e+07</td>\n",
              "    </tr>\n",
              "    <tr>\n",
              "      <th>Pernambuco</th>\n",
              "      <td>9616621</td>\n",
              "      <td>3.354488e+07</td>\n",
              "    </tr>\n",
              "    <tr>\n",
              "      <th>Ceará</th>\n",
              "      <td>9187103</td>\n",
              "      <td>1.455953e+07</td>\n",
              "    </tr>\n",
              "    <tr>\n",
              "      <th>Pará</th>\n",
              "      <td>8690745</td>\n",
              "      <td>1.155971e+07</td>\n",
              "    </tr>\n",
              "    <tr>\n",
              "      <th>Santa Catarina</th>\n",
              "      <td>7252502</td>\n",
              "      <td>1.699124e+07</td>\n",
              "    </tr>\n",
              "    <tr>\n",
              "      <th>Maranhão</th>\n",
              "      <td>7114598</td>\n",
              "      <td>1.091672e+07</td>\n",
              "    </tr>\n",
              "    <tr>\n",
              "      <th>Goiás</th>\n",
              "      <td>7113540</td>\n",
              "      <td>2.024264e+07</td>\n",
              "    </tr>\n",
              "    <tr>\n",
              "      <th>Amazonas</th>\n",
              "      <td>4207714</td>\n",
              "      <td>4.726486e+06</td>\n",
              "    </tr>\n",
              "    <tr>\n",
              "      <th>Espírito Santo</th>\n",
              "      <td>4064052</td>\n",
              "      <td>1.082426e+07</td>\n",
              "    </tr>\n",
              "    <tr>\n",
              "      <th>Paraíba</th>\n",
              "      <td>4039277</td>\n",
              "      <td>8.585226e+06</td>\n",
              "    </tr>\n",
              "    <tr>\n",
              "      <th>Rio Grande do Norte</th>\n",
              "      <td>3534165</td>\n",
              "      <td>8.080161e+06</td>\n",
              "    </tr>\n",
              "    <tr>\n",
              "      <th>Mato Grosso</th>\n",
              "      <td>3526220</td>\n",
              "      <td>6.174225e+06</td>\n",
              "    </tr>\n",
              "    <tr>\n",
              "      <th>Alagoas</th>\n",
              "      <td>3351543</td>\n",
              "      <td>6.487948e+06</td>\n",
              "    </tr>\n",
              "    <tr>\n",
              "      <th>Piauí</th>\n",
              "      <td>3281480</td>\n",
              "      <td>7.926322e+06</td>\n",
              "    </tr>\n",
              "    <tr>\n",
              "      <th>Distrito Federal</th>\n",
              "      <td>3055149</td>\n",
              "      <td>1.204485e+07</td>\n",
              "    </tr>\n",
              "    <tr>\n",
              "      <th>Mato Grosso do Sul</th>\n",
              "      <td>2809394</td>\n",
              "      <td>4.059220e+06</td>\n",
              "    </tr>\n",
              "    <tr>\n",
              "      <th>Sergipe</th>\n",
              "      <td>2318822</td>\n",
              "      <td>1.742128e+06</td>\n",
              "    </tr>\n",
              "    <tr>\n",
              "      <th>Rondônia</th>\n",
              "      <td>1796460</td>\n",
              "      <td>3.556382e+06</td>\n",
              "    </tr>\n",
              "    <tr>\n",
              "      <th>Tocantins</th>\n",
              "      <td>1590248</td>\n",
              "      <td>2.453363e+06</td>\n",
              "    </tr>\n",
              "    <tr>\n",
              "      <th>Acre</th>\n",
              "      <td>894470</td>\n",
              "      <td>NaN</td>\n",
              "    </tr>\n",
              "    <tr>\n",
              "      <th>Amapá</th>\n",
              "      <td>861773</td>\n",
              "      <td>8.341873e+05</td>\n",
              "    </tr>\n",
              "    <tr>\n",
              "      <th>Roraima</th>\n",
              "      <td>631181</td>\n",
              "      <td>1.524478e+06</td>\n",
              "    </tr>\n",
              "  </tbody>\n",
              "</table>\n",
              "</div>"
            ],
            "text/plain": [
              "                     populacao      2020/Ago\n",
              "Unidade federativa                          \n",
              "São Paulo             46289333  1.404149e+08\n",
              "Minas Gerais          21292666  5.747370e+07\n",
              "Rio de Janeiro        17366189  3.626432e+07\n",
              "Bahia                 14930634  2.602356e+07\n",
              "Paraná                11516840  4.154240e+07\n",
              "Rio Grande do Sul     11422973  2.834926e+07\n",
              "Pernambuco             9616621  3.354488e+07\n",
              "Ceará                  9187103  1.455953e+07\n",
              "Pará                   8690745  1.155971e+07\n",
              "Santa Catarina         7252502  1.699124e+07\n",
              "Maranhão               7114598  1.091672e+07\n",
              "Goiás                  7113540  2.024264e+07\n",
              "Amazonas               4207714  4.726486e+06\n",
              "Espírito Santo         4064052  1.082426e+07\n",
              "Paraíba                4039277  8.585226e+06\n",
              "Rio Grande do Norte    3534165  8.080161e+06\n",
              "Mato Grosso            3526220  6.174225e+06\n",
              "Alagoas                3351543  6.487948e+06\n",
              "Piauí                  3281480  7.926322e+06\n",
              "Distrito Federal       3055149  1.204485e+07\n",
              "Mato Grosso do Sul     2809394  4.059220e+06\n",
              "Sergipe                2318822  1.742128e+06\n",
              "Rondônia               1796460  3.556382e+06\n",
              "Tocantins              1590248  2.453363e+06\n",
              "Acre                    894470           NaN\n",
              "Amapá                   861773  8.341873e+05\n",
              "Roraima                 631181  1.524478e+06"
            ]
          },
          "metadata": {
            "tags": []
          },
          "execution_count": 14
        }
      ]
    }
  ]
}